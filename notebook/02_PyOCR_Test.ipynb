{
 "cells": [
  {
   "cell_type": "markdown",
   "metadata": {},
   "source": [
    "# PyOCRで文字認識を行い、言語指定をいろいろ試す"
   ]
  },
  {
   "cell_type": "code",
   "execution_count": 1,
   "metadata": {},
   "outputs": [],
   "source": [
    "#coding:utf-8\n",
    "import cv2\n",
    "import numpy as np\n",
    "from PIL import Image\n",
    "import matplotlib.pyplot as plt\n",
    "import pyocr\n",
    "import pyocr.builders\n",
    "\n",
    "# matplotlibをJupyterでインライン表示するための宣言\n",
    "%matplotlib inline"
   ]
  },
  {
   "cell_type": "markdown",
   "metadata": {},
   "source": [
    "## 設定"
   ]
  },
  {
   "cell_type": "code",
   "execution_count": 176,
   "metadata": {},
   "outputs": [],
   "source": [
    "NAMECARD_IMAGE_FOLDER = \"../data/01_namecard/\"\n",
    "NAMECARD_DATA_FOLDER = \"../data/02_namecard_data/\""
   ]
  },
  {
   "cell_type": "markdown",
   "metadata": {},
   "source": [
    "## PyOCRのセットアップ"
   ]
  },
  {
   "cell_type": "code",
   "execution_count": 3,
   "metadata": {},
   "outputs": [
    {
     "name": "stdout",
     "output_type": "stream",
     "text": [
      "pyocr tools count = 2\n",
      "tool[0].tool.get_name() = Tesseract (sh)\n",
      "tool[1].tool.get_name() = Tesseract (C-API)\n"
     ]
    }
   ],
   "source": [
    "tools = pyocr.get_available_tools() # OCRツールの有無の確認\n",
    "if len(tools) == 0:\n",
    "    print(\"No OCR tool found\")\n",
    "\n",
    "# OCRツールを列挙してみる\n",
    "print(f\"pyocr tools count = {len(tools)}\")\n",
    "for tool_id in range(len(tools)):\n",
    "    print(f\"tool[{tool_id}].tool.get_name() = \" + tools[tool_id].get_name())"
   ]
  },
  {
   "cell_type": "markdown",
   "metadata": {},
   "source": [
    "#### ツールの設定と言語の列挙"
   ]
  },
  {
   "cell_type": "code",
   "execution_count": 4,
   "metadata": {},
   "outputs": [
    {
     "name": "stdout",
     "output_type": "stream",
     "text": [
      "use tool =Tesseract (sh)\n",
      "pyocr langs  = eng, eng_best, jpn, jpn_best, jpn_vert, osd\n"
     ]
    }
   ],
   "source": [
    "pyocr_tool = tools[0]\n",
    "print(\"use tool =\" + (pyocr_tool.get_name()))\n",
    "\n",
    "langs = pyocr_tool.get_available_languages() # 使用できる言語の確認\n",
    "print(\"pyocr langs  = \" + \", \".join(langs))"
   ]
  },
  {
   "cell_type": "markdown",
   "metadata": {},
   "source": [
    "## 文字認識\n",
    "言語をjpn、psm=1で認識"
   ]
  },
  {
   "cell_type": "code",
   "execution_count": 5,
   "metadata": {},
   "outputs": [
    {
     "name": "stdout",
     "output_type": "stream",
     "text": [
      "⑲Hugku〝\n",
      "磨 Huekunpata\n",
      "\n",
      "HugkunData 代 表 取 締 役 / 代 表 取 締 役 会 長\n",
      "\n",
      "鈴 木 康 元\n",
      "\n",
      "Yasuharu Suzuki\n",
      "\n",
      "〒⑨0④-0①0① 沖 縄 県 中 頭 那 北 谷 町 字 上 勢 頭 ⑧③⑦-⑧-②0⑥\n",
      "TEL`0⑨0-⑨④③⑨ -⑧⑤③⑥ MAILisuzukl.yasuhal@hugkun.com\n",
      "WEBihugkun.com\n"
     ]
    }
   ],
   "source": [
    "test_path = NAMECARD_IMAGE_FOLDER + \"001_hugkun_yasubei.jpg\"\n",
    "test_img = Image.open(test_path)\n",
    "txt = pyocr_tool.image_to_string(test_img, lang='jpn',             # 画像と言語を指定\n",
    "    builder=pyocr.builders.TextBuilder(tesseract_layout=1))       # psmを指定する\n",
    "print(txt)"
   ]
  },
  {
   "cell_type": "markdown",
   "metadata": {},
   "source": [
    "・ロゴは読めていない（これは仕方がない）<br>\n",
    "・半角数字が丸数字に誤認識されてしまうことが多い<br>\n",
    "・Hugkunの文字が消えている<br>\n",
    "・「Mail:」や「WEB:」のコロンの部分がiになっている<br>"
   ]
  },
  {
   "cell_type": "markdown",
   "metadata": {},
   "source": [
    "### jpn_bestでの文字認識"
   ]
  },
  {
   "cell_type": "code",
   "execution_count": 6,
   "metadata": {},
   "outputs": [
    {
     "name": "stdout",
     "output_type": "stream",
     "text": [
      "huekun\n",
      "L_Huekunpata\n",
      "\n",
      "HugkunData 代 表 取 締 役 / 代表 取締 役 会 長\n",
      "\n",
      "鈴木 康 元\n",
      "\n",
      "Yasuharu Suzuki\n",
      "\n",
      "宣 904-0101 沖縄 県 中 頭 郡 北谷 町 字 上 勢 頭 837-8-206\n",
      "TEL: 090-9439- 8536 MAIL:suzuki.yasuhal@hugkun.com\n",
      "WEBihugkun.com\n"
     ]
    }
   ],
   "source": [
    "txt = pyocr_tool.image_to_string(test_img, lang='jpn_best',      # 画像と言語を指定\n",
    "    builder=pyocr.builders.TextBuilder(tesseract_layout=1))          # psmを指定する\n",
    "print(txt)"
   ]
  },
  {
   "cell_type": "markdown",
   "metadata": {},
   "source": [
    "・数字の部分が丸数字で誤認識されることが多かったものが、jpn_bestでは丸数字は無くなっている（精度向上）<br>\n",
    "・〒 (郵便記号)が「宣」に誤認識されている（精度ダウン）<br>\n",
    "・全体では精度が上がっているように見える"
   ]
  },
  {
   "cell_type": "markdown",
   "metadata": {},
   "source": [
    "### 複数言語を指定する"
   ]
  },
  {
   "cell_type": "code",
   "execution_count": 9,
   "metadata": {},
   "outputs": [
    {
     "name": "stdout",
     "output_type": "stream",
     "text": [
      "⑲Hu9ku〝\n",
      "磨 Huekunpata\n",
      "\n",
      "HugkunData 代 表 取 締 役 / 代 表 取 締 役 会 長\n",
      "\n",
      "鈴 木 康 元\n",
      "\n",
      "Yasuharu Suzuki\n",
      "\n",
      "〒⑨0④-0①0① 沖 縄 県 中 頭 那 北 谷 町 字 上 勢 頭 ⑧③⑦-⑧-②0⑥\n",
      "TEL:090-9439-8536 MAIL:suzuki.yasuhal@hugkun.com\n",
      "WEB: hugkun.com\n"
     ]
    }
   ],
   "source": [
    "txt = pyocr_tool.image_to_string(test_img, lang='jpn+eng',        # 画像と言語を指定\n",
    "    builder=pyocr.builders.TextBuilder(tesseract_layout=1))          # psmを指定する\n",
    "print(txt)"
   ]
  },
  {
   "cell_type": "markdown",
   "metadata": {},
   "source": [
    "## 言語ごとの実行時間を計測してみる"
   ]
  },
  {
   "cell_type": "code",
   "execution_count": 89,
   "metadata": {},
   "outputs": [
    {
     "name": "stdout",
     "output_type": "stream",
     "text": [
      "1.92 s ± 17.3 ms per loop (mean ± std. dev. of 7 runs, 1 loop each)\n"
     ]
    }
   ],
   "source": [
    "%%timeit\n",
    "txt = pyocr_tool.image_to_string(test_img, lang='jpn',             # 画像と言語を指定\n",
    "    builder=pyocr.builders.TextBuilder(tesseract_layout=1))       # psmを指定する"
   ]
  },
  {
   "cell_type": "code",
   "execution_count": 90,
   "metadata": {},
   "outputs": [
    {
     "name": "stdout",
     "output_type": "stream",
     "text": [
      "6.09 s ± 54.9 ms per loop (mean ± std. dev. of 7 runs, 1 loop each)\n"
     ]
    }
   ],
   "source": [
    "%%timeit\n",
    "txt = pyocr_tool.image_to_string(test_img, lang='jpn_best',      # 画像と言語を指定\n",
    "    builder=pyocr.builders.TextBuilder(tesseract_layout=1))          # psmを指定する"
   ]
  },
  {
   "cell_type": "code",
   "execution_count": 91,
   "metadata": {},
   "outputs": [
    {
     "name": "stdout",
     "output_type": "stream",
     "text": [
      "2.67 s ± 6.71 ms per loop (mean ± std. dev. of 7 runs, 1 loop each)\n"
     ]
    }
   ],
   "source": [
    "%%timeit\n",
    "txt = pyocr_tool.image_to_string(test_img, lang='jpn+eng',        # 画像と言語を指定\n",
    "    builder=pyocr.builders.TextBuilder(tesseract_layout=1))          # psmを指定する"
   ]
  },
  {
   "cell_type": "code",
   "execution_count": 92,
   "metadata": {},
   "outputs": [
    {
     "name": "stdout",
     "output_type": "stream",
     "text": [
      "1.2 s ± 4.95 ms per loop (mean ± std. dev. of 7 runs, 1 loop each)\n"
     ]
    }
   ],
   "source": [
    "%%timeit\n",
    "txt = pyocr_tool.image_to_string(test_img, lang='eng',               # 画像と言語を指定\n",
    "    builder=pyocr.builders.TextBuilder(tesseract_layout=1))          # psmを指定する"
   ]
  },
  {
   "cell_type": "code",
   "execution_count": 99,
   "metadata": {},
   "outputs": [
    {
     "name": "stdout",
     "output_type": "stream",
     "text": [
      "7.23 s ± 26.9 ms per loop (mean ± std. dev. of 7 runs, 1 loop each)\n"
     ]
    }
   ],
   "source": [
    "%%timeit\n",
    "txt = pyocr_tool.image_to_string(test_img, lang='jpn_best+eng_best',               # 画像と言語を指定\n",
    "    builder=pyocr.builders.TextBuilder(tesseract_layout=1))          # psmを指定する"
   ]
  },
  {
   "cell_type": "markdown",
   "metadata": {},
   "source": [
    "・一番精度が良さそうに見えたjpn_bestがjpnの３倍以上遅く、実行速度にばらつきも大きい<br>\n",
    "・jpn + engはjpnの約1.35倍と少し遅くなるだけ<br>\n",
    "・一方でeng一つだけだと約0.65倍とかなり速い。日本語の分析速度が遅いことがわかる。<br>\n",
    "・tesseract-ocrは呼び出すだけで0.4sほど時間がかかっていることがわかる（1.9ｓ+1.21s-2.69s=0.42s)<br>\n",
    "　※プロセスの呼び出し速度や画像処理など、ある程度固定で時間が掛かる処理を行っていることが予測される。<br>"
   ]
  },
  {
   "cell_type": "markdown",
   "metadata": {},
   "source": [
    "## 精度の計算(ゲシュタルトパターンマッチング)"
   ]
  },
  {
   "cell_type": "code",
   "execution_count": 17,
   "metadata": {},
   "outputs": [
    {
     "data": {
      "text/plain": [
       "0.75"
      ]
     },
     "execution_count": 17,
     "metadata": {},
     "output_type": "execute_result"
    }
   ],
   "source": [
    "import difflib\n",
    "difflib.SequenceMatcher(None, \"ABSOLUTE\", \"OBSOLETE\").ratio()"
   ]
  },
  {
   "cell_type": "markdown",
   "metadata": {},
   "source": [
    "## 精度の計算(独自実装)\n",
    "・正解データの各行と比較し、最も精度の良かった値を集計して返す"
   ]
  },
  {
   "cell_type": "code",
   "execution_count": 177,
   "metadata": {},
   "outputs": [
    {
     "data": {
      "text/plain": [
       "'Hugkun\\nHugkunData\\n\\nHugkunData代表取締役 / Hugkun代表取締役会長\\n\\n鈴木 康元\\n\\nYasuharu Suzuki\\n\\n〒 904-0101 沖縄県中頭郡北谷町字上勢頭 837-8-206\\nTEL: 090-9439- 8536 MAIL:suzuki.yasuhal@hugkun.com\\nWEB:hugkun.com'"
      ]
     },
     "execution_count": 177,
     "metadata": {},
     "output_type": "execute_result"
    }
   ],
   "source": [
    "test_data_path = NAMECARD_DATA_FOLDER + \"001_hugkun_yasubei.txt\"\n",
    "y = \"\"\n",
    "with open(test_data_path) as f:\n",
    "    y = f.read()\n",
    "y\n",
    "# y = \"\"\"\n",
    "# Hugkun\n",
    "# HugkunData\n",
    "\n",
    "# HugkunData代表取締役 / Hugkun代表取締役会長\n",
    "\n",
    "# 鈴木 康元\n",
    "\n",
    "# Yasuharu Suzuki\n",
    "\n",
    "# 〒 904-0101 沖縄県中頭郡北谷町字上勢頭 837-8-206\n",
    "# TEL: 090-9439- 8536 MAIL:suzuki.yasuhal@hugkun.com\n",
    "# WEB:hugkun.com\n",
    "# \"\"\""
   ]
  },
  {
   "cell_type": "code",
   "execution_count": 178,
   "metadata": {},
   "outputs": [],
   "source": [
    "# 一行分のスコア算出\n",
    "def calc_line_ratio (line1:str, text2:[str]) -> float:\n",
    "    max_score = -1\n",
    "    for line2 in text2:\n",
    "        max_score = max(max_score, difflib.SequenceMatcher(None, line1, line2).ratio())\n",
    "    \n",
    "    max_score *= len(line1)\n",
    "    print(f\"{line1} max_score={max_score}\")\n",
    "    return max_score"
   ]
  },
  {
   "cell_type": "code",
   "execution_count": 179,
   "metadata": {},
   "outputs": [],
   "source": [
    "# 前処理\n",
    "def preprocessing_text (text1:str) -> [str]:\n",
    "    result = []\n",
    "    text1_array = text1.split(\"\\n\") # 改行で区切る\n",
    "    for line1 in text1_array:\n",
    "        line1 = line1.replace(' ', '') # スペースは削除\n",
    "        if len(line1) < 1:  # 空文字列の場合は何もしない。\n",
    "            continue\n",
    "        result.append(line1)\n",
    "    return result"
   ]
  },
  {
   "cell_type": "code",
   "execution_count": 180,
   "metadata": {},
   "outputs": [],
   "source": [
    "# 複数行計算（独自実装）\n",
    "def calc_text_ratio (text1:str, text2:str) -> float:\n",
    "    text1_array = preprocessing_text(text1)\n",
    "    text2_array = preprocessing_text(text2)\n",
    "    sum_score = 0\n",
    "    sum_length = 0\n",
    "    for line1 in text1_array:\n",
    "        sum_score += calc_line_ratio(line1, text2_array)\n",
    "        sum_length += len(line1)\n",
    "    return sum_score/sum_length"
   ]
  },
  {
   "cell_type": "markdown",
   "metadata": {},
   "source": [
    "## 言語ごとの精度の計算"
   ]
  },
  {
   "cell_type": "code",
   "execution_count": 181,
   "metadata": {},
   "outputs": [
    {
     "name": "stdout",
     "output_type": "stream",
     "text": [
      "⑲Hugku〝 max_score=5.384615384615385\n",
      "磨Huekunpata max_score=8.38095238095238\n",
      "HugkunData代表取締役/代表取締役会長 max_score=20.346153846153847\n",
      "鈴木康元 max_score=4.0\n",
      "YasuharuSuzuki max_score=14.0\n",
      "〒⑨0④-0①0①沖縄県中頭那北谷町字上勢頭⑧③⑦-⑧-②0⑥ max_score=20.0\n",
      "TEL`0⑨0-⑨④③⑨-⑧⑤③⑥MAILisuzukl.yasuhal@hugkun.com max_score=35.0\n",
      "WEBihugkun.com max_score=13.0\n"
     ]
    },
    {
     "data": {
      "text/plain": [
       "0.7954418649782887"
      ]
     },
     "execution_count": 181,
     "metadata": {},
     "output_type": "execute_result"
    }
   ],
   "source": [
    "txt_jpn = pyocr_tool.image_to_string(test_img, lang='jpn',         # 画像と言語を指定\n",
    "    builder=pyocr.builders.TextBuilder(tesseract_layout=1))          # psmを指定する\n",
    "ratio_jpn = calc_text_ratio(txt_jpn,y)\n",
    "ratio_jpn"
   ]
  },
  {
   "cell_type": "code",
   "execution_count": 182,
   "metadata": {},
   "outputs": [
    {
     "name": "stdout",
     "output_type": "stream",
     "text": [
      "huekun max_score=4.0\n",
      "L_Huekunpata max_score=8.727272727272727\n",
      "HugkunData代表取締役/代表取締役会長 max_score=20.346153846153847\n",
      "鈴木康元 max_score=4.0\n",
      "YasuharuSuzuki max_score=14.0\n",
      "宣904-0101沖縄県中頭郡北谷町字上勢頭837-8-206 max_score=30.0\n",
      "TEL:090-9439-8536MAIL:suzuki.yasuhal@hugkun.com max_score=47.0\n",
      "WEBihugkun.com max_score=13.0\n"
     ]
    },
    {
     "data": {
      "text/plain": [
       "0.9342611031352752"
      ]
     },
     "execution_count": 182,
     "metadata": {},
     "output_type": "execute_result"
    }
   ],
   "source": [
    "txt_jpn_best = pyocr_tool.image_to_string(test_img, lang='jpn_best',         # 画像と言語を指定\n",
    "    builder=pyocr.builders.TextBuilder(tesseract_layout=1))          # psmを指定する\n",
    "ratio_jpn_best = calc_text_ratio(txt_jpn_best,y)\n",
    "ratio_jpn_best"
   ]
  },
  {
   "cell_type": "code",
   "execution_count": 183,
   "metadata": {},
   "outputs": [
    {
     "name": "stdout",
     "output_type": "stream",
     "text": [
      "⑲Hu9ku〝 max_score=4.307692307692308\n",
      "磨Huekunpata max_score=8.38095238095238\n",
      "HugkunData代表取締役/代表取締役会長 max_score=20.346153846153847\n",
      "鈴木康元 max_score=4.0\n",
      "YasuharuSuzuki max_score=14.0\n",
      "〒⑨0④-0①0①沖縄県中頭那北谷町字上勢頭⑧③⑦-⑧-②0⑥ max_score=20.0\n",
      "TEL:090-9439-8536MAIL:suzuki.yasuhal@hugkun.com max_score=47.0\n",
      "WEB:hugkun.com max_score=14.0\n"
     ]
    },
    {
     "data": {
      "text/plain": [
       "0.8744026393033016"
      ]
     },
     "execution_count": 183,
     "metadata": {},
     "output_type": "execute_result"
    }
   ],
   "source": [
    "txt_jpn_plus_eng = pyocr_tool.image_to_string(test_img, lang='jpn+eng',         # 画像と言語を指定\n",
    "    builder=pyocr.builders.TextBuilder(tesseract_layout=1))          # psmを指定する\n",
    "ratio_jpn_plus_eng = calc_text_ratio(txt_jpn_plus_eng,y)\n",
    "ratio_jpn_plus_eng"
   ]
  },
  {
   "cell_type": "code",
   "execution_count": 184,
   "metadata": {},
   "outputs": [
    {
     "name": "stdout",
     "output_type": "stream",
     "text": [
      "@kiigkun max_score=4.571428571428571\n",
      "LYHigkunData max_score=9.818181818181818\n",
      "HugkunDataftanemia/RAMS max_score=13.93939393939394\n",
      "ipARRIC max_score=0.6666666666666666\n",
      "YasuharuSuzuki max_score=14.0\n",
      "F904-0101SMUPINBBILABTSb9H837-8-206 max_score=18.03030303030303\n",
      "TEL:090-9439-8536MAIL:suzuki.yasuhal@hugkun.com max_score=47.0\n",
      "WEB:hugkun.com max_score=14.0\n"
     ]
    },
    {
     "data": {
      "text/plain": [
       "0.7626623376623376"
      ]
     },
     "execution_count": 184,
     "metadata": {},
     "output_type": "execute_result"
    }
   ],
   "source": [
    "txt_eng = pyocr_tool.image_to_string(test_img, lang='eng',         # 画像と言語を指定\n",
    "    builder=pyocr.builders.TextBuilder(tesseract_layout=1))          # psmを指定する\n",
    "ratio_eng = calc_text_ratio(txt_eng,y)\n",
    "ratio_eng"
   ]
  },
  {
   "cell_type": "code",
   "execution_count": 185,
   "metadata": {},
   "outputs": [
    {
     "name": "stdout",
     "output_type": "stream",
     "text": [
      "huekun max_score=4.0\n",
      "LYHigkunData max_score=9.818181818181818\n",
      "HugkunData代表取締役/代表取締役会長 max_score=20.346153846153847\n",
      "鈴木康元 max_score=4.0\n",
      "YasuharuSuzuki max_score=14.0\n",
      "宣904-0101沖縄県中頭郡北谷町字上勢頭837-8-206 max_score=30.0\n",
      "TEL:090-9439-8536MAIL:suzukiyasuhal@®hugkun.com max_score=46.0\n",
      "WEB:hugkun.com max_score=14.0\n"
     ]
    }
   ],
   "source": [
    "txt_jpn_best_plus_eng = pyocr_tool.image_to_string(test_img, lang='jpn_best+eng_best',         # 画像と言語を指定\n",
    "    builder=pyocr.builders.TextBuilder(tesseract_layout=1))          # psmを指定する\n",
    "ratio_jpn_best_plus_eng_best = calc_text_ratio(txt_jpn_best_plus_eng,y)"
   ]
  },
  {
   "cell_type": "code",
   "execution_count": 186,
   "metadata": {},
   "outputs": [
    {
     "data": {
      "text/html": [
       "<div>\n",
       "<style scoped>\n",
       "    .dataframe tbody tr th:only-of-type {\n",
       "        vertical-align: middle;\n",
       "    }\n",
       "\n",
       "    .dataframe tbody tr th {\n",
       "        vertical-align: top;\n",
       "    }\n",
       "\n",
       "    .dataframe thead th {\n",
       "        text-align: right;\n",
       "    }\n",
       "</style>\n",
       "<table border=\"1\" class=\"dataframe\">\n",
       "  <thead>\n",
       "    <tr style=\"text-align: right;\">\n",
       "      <th></th>\n",
       "      <th>name</th>\n",
       "      <th>ratio</th>\n",
       "    </tr>\n",
       "  </thead>\n",
       "  <tbody>\n",
       "    <tr>\n",
       "      <th>0</th>\n",
       "      <td>jpn</td>\n",
       "      <td>0.795442</td>\n",
       "    </tr>\n",
       "    <tr>\n",
       "      <th>1</th>\n",
       "      <td>jpn_best</td>\n",
       "      <td>0.934261</td>\n",
       "    </tr>\n",
       "    <tr>\n",
       "      <th>2</th>\n",
       "      <td>jpn+eng</td>\n",
       "      <td>0.874403</td>\n",
       "    </tr>\n",
       "    <tr>\n",
       "      <th>3</th>\n",
       "      <td>eng</td>\n",
       "      <td>0.762662</td>\n",
       "    </tr>\n",
       "    <tr>\n",
       "      <th>4</th>\n",
       "      <td>jpn_best+eng_best</td>\n",
       "      <td>0.941486</td>\n",
       "    </tr>\n",
       "  </tbody>\n",
       "</table>\n",
       "</div>"
      ],
      "text/plain": [
       "                name     ratio\n",
       "0                jpn  0.795442\n",
       "1           jpn_best  0.934261\n",
       "2            jpn+eng  0.874403\n",
       "3                eng  0.762662\n",
       "4  jpn_best+eng_best  0.941486"
      ]
     },
     "execution_count": 186,
     "metadata": {},
     "output_type": "execute_result"
    }
   ],
   "source": [
    "import pandas as pd\n",
    "\n",
    "data = [(\"jpn\",ratio_jpn),\n",
    "        (\"jpn_best\",ratio_jpn_best),\n",
    "        (\"jpn+eng\",ratio_jpn_plus_eng),\n",
    "        (\"eng\",ratio_eng),\n",
    "        (\"jpn_best+eng_best\",ratio_jpn_best_plus_eng_best)]\n",
    "df = pd.DataFrame(data,columns=[\"name\",\"ratio\"])\n",
    "df"
   ]
  },
  {
   "cell_type": "code",
   "execution_count": 187,
   "metadata": {},
   "outputs": [
    {
     "data": {
      "image/png": "[encoded data removed]",
      "text/plain": [
       "<Figure size 720x504 with 1 Axes>"
      ]
     },
     "metadata": {
      "needs_background": "light"
     },
     "output_type": "display_data"
    }
   ],
   "source": [
    "from matplotlib.ticker import FuncFormatter\n",
    "\n",
    "fig, ax = plt.subplots(figsize=(10,7)) \n",
    "df.plot(kind=\"bar\", x=\"name\", color='turquoise', legend=None, ax=ax)\n",
    "\n",
    "# バーの上に数値を表示\n",
    "totals = []\n",
    "for i in ax.patches:\n",
    "    totals.append(i.get_height())\n",
    "total = sum(totals)\n",
    "for i in ax.patches:\n",
    "    ax.text(i.get_x()+0.25, i.get_height()+0.005,\n",
    "            str(round(i.get_height()*100, 2))+'%',\n",
    "            fontsize=14,\n",
    "            horizontalalignment='center',\n",
    "            verticalalignment='bottom',\n",
    "            color='green')\n",
    "\n",
    "# Y軸をpercent表記に\n",
    "def _to_percent(x, position):\n",
    "    return '{:.{}f}%'.format(x*100,0)\n",
    "formatter = FuncFormatter(_to_percent)\n",
    "ax.yaxis.set_major_formatter(formatter)\n",
    "\n",
    "# Y軸の最小値と最大値を定義\n",
    "plt.ylim(0,1)\n",
    "ax.set_xlabel(None)\n",
    "ax.set_ylabel(None)\n",
    "ax.set_xticklabels([])\n",
    "\n",
    "plt.show(ax)"
   ]
  },
  {
   "cell_type": "code",
   "execution_count": null,
   "metadata": {},
   "outputs": [],
   "source": []
  }
 ],
 "metadata": {
  "kernelspec": {
   "display_name": "Python 3",
   "language": "python",
   "name": "python3"
  },
  "language_info": {
   "codemirror_mode": {
    "name": "ipython",
    "version": 3
   },
   "file_extension": ".py",
   "mimetype": "text/x-python",
   "name": "python",
   "nbconvert_exporter": "python",
   "pygments_lexer": "ipython3",
   "version": "3.7.3"
  }
 },
 "nbformat": 4,
 "nbformat_minor": 2
}
