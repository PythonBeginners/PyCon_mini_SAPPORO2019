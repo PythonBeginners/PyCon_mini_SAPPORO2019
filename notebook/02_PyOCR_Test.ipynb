{
 "cells": [
  {
   "cell_type": "code",
   "execution_count": 1,
   "metadata": {},
   "outputs": [],
   "source": [
    "#coding:utf-8\n",
    "import cv2\n",
    "import numpy as np\n",
    "from PIL import Image\n",
    "import matplotlib.pyplot as plt\n",
    "import pyocr\n",
    "import pyocr.builders\n",
    "\n",
    "# matplotlibをJupyterでインライン表示するための宣言\n",
    "%matplotlib inline"
   ]
  },
  {
   "cell_type": "code",
   "execution_count": 12,
   "metadata": {},
   "outputs": [
    {
     "name": "stdout",
     "output_type": "stream",
     "text": [
      "pyocr tools count = 2\n",
      "tool[0].tool.get_name() = Tesseract (sh)\n",
      "tool[1].tool.get_name() = Tesseract (C-API)\n"
     ]
    }
   ],
   "source": [
    "# PyOCRのセットアップ\n",
    "tools = pyocr.get_available_tools() # OCRツールの有無の確認\n",
    "if len(tools) == 0:\n",
    "    print(\"No OCR tool found\")\n",
    "\n",
    "print(f\"pyocr tools count = {len(tools)}\")\n",
    "for tool_id in range(len(tools)):\n",
    "    print(f\"tool[{tool_id}].tool.get_name() = \" + tools[tool_id].get_name())"
   ]
  },
  {
   "cell_type": "code",
   "execution_count": 9,
   "metadata": {},
   "outputs": [
    {
     "data": {
      "text/plain": [
       "<module 'pyocr.libtesseract' from '/home/ubuntu/anaconda3/lib/python3.7/site-packages/pyocr/libtesseract/__init__.py'>"
      ]
     },
     "execution_count": 9,
     "metadata": {},
     "output_type": "execute_result"
    }
   ],
   "source": [
    "pyocr_tool = tools[1]\n",
    "print(\"Will use tool '%s'\" % (tool.get_name())) # 使用するOCRツールの名前が出ます，変えたい場合は一個前の参照先を変えること\n",
    "\n",
    "langs = tool.get_available_languages() # 使用できる言語の確認\n",
    "print(\"Available languages: %s\" % \", \".join(langs))\n",
    "\n",
    "lang = langs[0]\n",
    "print(\"Will use lang '%s'\" % (lang)) # 使用する言語について    "
   ]
  },
  {
   "cell_type": "code",
   "execution_count": 10,
   "metadata": {},
   "outputs": [
    {
     "data": {
      "text/plain": [
       "<module 'pyocr.tesseract' from '/home/ubuntu/anaconda3/lib/python3.7/site-packages/pyocr/tesseract.py'>"
      ]
     },
     "execution_count": 10,
     "metadata": {},
     "output_type": "execute_result"
    }
   ],
   "source": [
    "tools[0]"
   ]
  },
  {
   "cell_type": "code",
   "execution_count": null,
   "metadata": {},
   "outputs": [],
   "source": []
  }
 ],
 "metadata": {
  "kernelspec": {
   "display_name": "Python 3",
   "language": "python",
   "name": "python3"
  },
  "language_info": {
   "codemirror_mode": {
    "name": "ipython",
    "version": 3
   },
   "file_extension": ".py",
   "mimetype": "text/x-python",
   "name": "python",
   "nbconvert_exporter": "python",
   "pygments_lexer": "ipython3",
   "version": "3.7.3"
  }
 },
 "nbformat": 4,
 "nbformat_minor": 2
}
